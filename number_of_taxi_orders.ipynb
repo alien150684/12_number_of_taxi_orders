{
 "cells": [
  {
   "cell_type": "markdown",
   "metadata": {
    "toc": true
   },
   "source": [
    "<h1>Содержание<span class=\"tocSkip\"></span></h1>\n",
    "<div class=\"toc\"><ul class=\"toc-item\"><li><span><a href=\"#Подготовка-данных\" data-toc-modified-id=\"Подготовка-данных-1\"><span class=\"toc-item-num\">1&nbsp;&nbsp;</span>Подготовка данных</a></span></li><li><span><a href=\"#Обучение-модели\" data-toc-modified-id=\"Обучение-модели-2\"><span class=\"toc-item-num\">2&nbsp;&nbsp;</span>Обучение модели</a></span><ul class=\"toc-item\"><li><span><a href=\"#Прогнозирование-значения-y(t)-предыдущим-значением-ряда,-то-есть-y(t-1)\" data-toc-modified-id=\"Прогнозирование-значения-y(t)-предыдущим-значением-ряда,-то-есть-y(t-1)-2.1\"><span class=\"toc-item-num\">2.1&nbsp;&nbsp;</span>Прогнозирование значения y(t) предыдущим значением ряда, то есть y(t-1)</a></span></li><li><span><a href=\"#Линейная-регрессия\" data-toc-modified-id=\"Линейная-регрессия-2.2\"><span class=\"toc-item-num\">2.2&nbsp;&nbsp;</span>Линейная регрессия</a></span></li><li><span><a href=\"#Модель-градиентного-бустинга-(CatBoost)\" data-toc-modified-id=\"Модель-градиентного-бустинга-(CatBoost)-2.3\"><span class=\"toc-item-num\">2.3&nbsp;&nbsp;</span>Модель градиентного бустинга (CatBoost)</a></span></li></ul></li><li><span><a href=\"#Тестирование-лучшей-модели\" data-toc-modified-id=\"Тестирование-лучшей-модели-3\"><span class=\"toc-item-num\">3&nbsp;&nbsp;</span>Тестирование лучшей модели</a></span></li><li><span><a href=\"#Чек-лист-проверки\" data-toc-modified-id=\"Чек-лист-проверки-4\"><span class=\"toc-item-num\">4&nbsp;&nbsp;</span>Чек-лист проверки</a></span></li></ul></div>"
   ]
  },
  {
   "attachments": {},
   "cell_type": "markdown",
   "metadata": {},
   "source": [
    "#  Прогнозирование количества заказов такси на следующий час"
   ]
  },
  {
   "cell_type": "markdown",
   "metadata": {},
   "source": [
    "Компания «Чётенькое такси» собрала исторические данные о заказах такси в аэропортах. Чтобы привлекать больше водителей в период пиковой нагрузки, нужно построить модель для прогнозирования количества заказов такси на следующий час.\n",
    "\n",
    "Значение метрики *RMSE* на тестовой выборке не должно превышать 48.\n",
    "\n",
    "Примерный план работы:\n",
    "\n",
    "1. Загрузить данные и выполнить их ресемплирование по одному часу.\n",
    "2. Проанализировать данные.\n",
    "3. Обучить разные модели с различными гиперпараметрами. Создать тестовую выборку объёмом 10% от общей.\n",
    "4. Проверить данные на тестовой выборке и сделать выводы.\n",
    "\n",
    "Данные лежат в файле `taxi.csv`. Количество заказов находится в столбце `num_orders` (от англ. *number of orders*, «число заказов»)."
   ]
  },
  {
   "cell_type": "markdown",
   "metadata": {},
   "source": [
    "## Подготовка данных"
   ]
  },
  {
   "cell_type": "code",
   "execution_count": 85,
   "metadata": {},
   "outputs": [],
   "source": [
    "import pandas as pd\n",
    "# отображение ВСЕХ столбцов\n",
    "pd.options.display.max_columns = None\n",
    "\n",
    "import numpy as np\n",
    "import matplotlib.pyplot as plt\n",
    "\n",
    "# модуль для разделения выборки на части и подбора гиперпараметров\n",
    "from sklearn.model_selection import train_test_split, TimeSeriesSplit, GridSearchCV\n",
    "\n",
    "# алгоритм линейной регрессии\n",
    "from sklearn.linear_model import LinearRegression\n",
    "\n",
    "# алгоритм градиентного бустинга\n",
    "from catboost import CatBoostRegressor\n",
    "\n",
    "# функции расчёта метрик\n",
    "from sklearn.metrics import mean_squared_error as mse\n",
    "\n",
    "# функиця разделения выборки на составляющие: тренд, сезонность и остаток\n",
    "from statsmodels.tsa.seasonal import seasonal_decompose"
   ]
  },
  {
   "cell_type": "code",
   "execution_count": 86,
   "metadata": {
    "scrolled": true
   },
   "outputs": [
    {
     "data": {
      "text/html": [
       "<div>\n",
       "<style scoped>\n",
       "    .dataframe tbody tr th:only-of-type {\n",
       "        vertical-align: middle;\n",
       "    }\n",
       "\n",
       "    .dataframe tbody tr th {\n",
       "        vertical-align: top;\n",
       "    }\n",
       "\n",
       "    .dataframe thead th {\n",
       "        text-align: right;\n",
       "    }\n",
       "</style>\n",
       "<table border=\"1\" class=\"dataframe\">\n",
       "  <thead>\n",
       "    <tr style=\"text-align: right;\">\n",
       "      <th></th>\n",
       "      <th>num_orders</th>\n",
       "    </tr>\n",
       "    <tr>\n",
       "      <th>datetime</th>\n",
       "      <th></th>\n",
       "    </tr>\n",
       "  </thead>\n",
       "  <tbody>\n",
       "    <tr>\n",
       "      <th>2018-03-01 00:00:00</th>\n",
       "      <td>9</td>\n",
       "    </tr>\n",
       "    <tr>\n",
       "      <th>2018-03-01 00:10:00</th>\n",
       "      <td>14</td>\n",
       "    </tr>\n",
       "    <tr>\n",
       "      <th>2018-03-01 00:20:00</th>\n",
       "      <td>28</td>\n",
       "    </tr>\n",
       "    <tr>\n",
       "      <th>2018-03-01 00:30:00</th>\n",
       "      <td>20</td>\n",
       "    </tr>\n",
       "    <tr>\n",
       "      <th>2018-03-01 00:40:00</th>\n",
       "      <td>32</td>\n",
       "    </tr>\n",
       "  </tbody>\n",
       "</table>\n",
       "</div>"
      ],
      "text/plain": [
       "                     num_orders\n",
       "datetime                       \n",
       "2018-03-01 00:00:00           9\n",
       "2018-03-01 00:10:00          14\n",
       "2018-03-01 00:20:00          28\n",
       "2018-03-01 00:30:00          20\n",
       "2018-03-01 00:40:00          32"
      ]
     },
     "metadata": {},
     "output_type": "display_data"
    },
    {
     "name": "stdout",
     "output_type": "stream",
     "text": [
      "<class 'pandas.core.frame.DataFrame'>\n",
      "DatetimeIndex: 26496 entries, 2018-03-01 00:00:00 to 2018-08-31 23:50:00\n",
      "Data columns (total 1 columns):\n",
      " #   Column      Non-Null Count  Dtype\n",
      "---  ------      --------------  -----\n",
      " 0   num_orders  26496 non-null  int64\n",
      "dtypes: int64(1)\n",
      "memory usage: 414.0 KB\n"
     ]
    }
   ],
   "source": [
    "df = pd.read_csv('/datasets/taxi.csv', index_col=[0], parse_dates=[0])\n",
    "\n",
    "# Сортируем данные по времени\n",
    "df.sort_index(inplace=True)\n",
    "\n",
    "display(df.head())\n",
    "df.info()"
   ]
  },
  {
   "cell_type": "markdown",
   "metadata": {},
   "source": [
    "**Вывод**. В таблице представлены данные о количестве заказов с временным интервалом в 10 мин. Выполним ресемплирование по одному часу."
   ]
  },
  {
   "cell_type": "code",
   "execution_count": 87,
   "metadata": {},
   "outputs": [],
   "source": [
    "df = df.resample('1H').sum()\n",
    "# df.head()"
   ]
  },
  {
   "cell_type": "markdown",
   "metadata": {},
   "source": [
    "# Анализ данных"
   ]
  },
  {
   "cell_type": "markdown",
   "metadata": {},
   "source": [
    "Разложим временной ряд на составляющие: тренд, сезонность и остаток декомпозиции (шум)."
   ]
  },
  {
   "cell_type": "code",
   "execution_count": 88,
   "metadata": {},
   "outputs": [
    {
     "data": {
      "image/png": "[encoded data removed]",
      "text/plain": [
       "<Figure size 432x576 with 3 Axes>"
      ]
     },
     "metadata": {
      "needs_background": "light"
     },
     "output_type": "display_data"
    }
   ],
   "source": [
    "decomposed = seasonal_decompose(df['num_orders'])\n",
    "\n",
    "plt.figure(figsize=(6, 8))\n",
    "\n",
    "plt.subplot(311)\n",
    "decomposed.trend.plot(xlim=('2018-03-01','2018-03-28'))\n",
    "plt.title('Trend')\n",
    "\n",
    "plt.subplot(312)\n",
    "decomposed.seasonal.plot(xlim=('2018-03-01','2018-03-03'))\n",
    "plt.title('Seasonality')\n",
    "\n",
    "plt.subplot(313)\n",
    "decomposed.resid.plot(xlim=('2018-03-01','2018-03-14'))\n",
    "plt.title('Residuals')\n",
    "\n",
    "plt.tight_layout()"
   ]
  },
  {
   "cell_type": "markdown",
   "metadata": {},
   "source": [
    "**Выводы**. \n",
    "1. В данных наблюдается восходящий тренд. Временной ряд не является стационарным. \n",
    "2. Сезонность характеризуется периодом, равным одним суткам. Ширину \"окна\" для сглаживания данных лучше брать кратной суткам."
   ]
  },
  {
   "cell_type": "code",
   "execution_count": 89,
   "metadata": {},
   "outputs": [
    {
     "data": {
      "image/png": "[encoded data removed]",
      "text/plain": [
       "<Figure size 432x576 with 1 Axes>"
      ]
     },
     "metadata": {
      "needs_background": "light"
     },
     "output_type": "display_data"
    }
   ],
   "source": [
    "# Чтобы ряд сделать стационарным, найдём разности его значений\n",
    "df['difference'] = df['num_orders'] - df['num_orders'].shift()\n",
    "\n",
    "# Удалим первую строку с пропуском\n",
    "df.dropna(axis=0, inplace=True)\n",
    "\n",
    "decomposed = seasonal_decompose(df['difference'])\n",
    "\n",
    "plt.figure(figsize=(6, 8))\n",
    "\n",
    "plt.subplot(311)\n",
    "decomposed.trend.plot(xlim=('2018-03-01','2018-03-28'))\n",
    "plt.title('Trend difference')\n",
    "\n",
    "# plt.subplot(312)\n",
    "# decomposed.seasonal.plot(xlim=('2018-03-01','2018-03-03'))\n",
    "# plt.title('Seasonality difference')\n",
    "\n",
    "# plt.subplot(313)\n",
    "# decomposed.resid.plot(xlim=('2018-03-01','2018-03-14'))\n",
    "# plt.title('Residuals difference')\n",
    "\n",
    "plt.tight_layout()"
   ]
  },
  {
   "cell_type": "markdown",
   "metadata": {},
   "source": [
    "**Вывод**. Разности значений 'num_orders' образуют более стационарный ряд. Посторим модель прогнозирования разностей."
   ]
  },
  {
   "cell_type": "markdown",
   "metadata": {},
   "source": [
    "## Обучение модели"
   ]
  },
  {
   "cell_type": "code",
   "execution_count": 90,
   "metadata": {},
   "outputs": [],
   "source": [
    "# Создадим дополнительные обучающие признаки\n",
    "\n",
    "def make_features(df, max_lag, rolling_mean_size):\n",
    "#    df['year'] = df.index.year\n",
    "#    df['month'] = df.index.month\n",
    "#    df['day'] = df.index.day\n",
    "    df['dayofweek'] = df.index.dayofweek\n",
    "    df['hour'] = df.index.hour\n",
    "    \n",
    "    for lag in range(1, max_lag + 1):\n",
    "        df[f'lag_{lag}'] = df['difference'].shift(lag)\n",
    "\n",
    "    df[f'rolling_mean_{rolling_mean_size}'] = (\n",
    "                                               df['difference'].shift()\n",
    "                                                               .rolling(rolling_mean_size)\n",
    "                                                               .mean()\n",
    "                                               )\n",
    "    # Удалим строки с пропусками\n",
    "    df.dropna(axis=0, inplace=True)\n",
    "\n",
    "make_features(df, 1, 24)"
   ]
  },
  {
   "cell_type": "code",
   "execution_count": 91,
   "metadata": {
    "scrolled": true
   },
   "outputs": [
    {
     "name": "stdout",
     "output_type": "stream",
     "text": [
      "(3516, 4)\n",
      "(435, 4)\n",
      "(440, 4)\n"
     ]
    }
   ],
   "source": [
    "# Отделим целевой признак от остальных.\n",
    "x = df.drop(['num_orders', 'difference'], axis=1)\n",
    "y = df[['difference', 'num_orders']]\n",
    "\n",
    "# Отделим 10% данных для тестовой выборки.\n",
    "x_train_valid, x_test, y_train_valid, y_test = train_test_split(\n",
    "    x, y, test_size=0.10, shuffle=False)\n",
    "\n",
    "# Создадим обучающую и валидационную выборки.\n",
    "x_train, x_valid, y_train, y_valid = train_test_split(\n",
    "    x_train_valid, y_train_valid, test_size=0.11, shuffle=False)\n",
    "\n",
    "print(x_train.shape)\n",
    "print(x_valid.shape)\n",
    "print(x_test.shape)"
   ]
  },
  {
   "cell_type": "code",
   "execution_count": 92,
   "metadata": {},
   "outputs": [],
   "source": [
    "%%script false --no-raise-error\n",
    "\n",
    "display(\n",
    "        x_test.head(),\n",
    "        y_test.head()\n",
    "        )"
   ]
  },
  {
   "cell_type": "markdown",
   "metadata": {},
   "source": [
    "### Прогнозирование значения y(t) предыдущим значением ряда, то есть y(t-1)"
   ]
  },
  {
   "cell_type": "code",
   "execution_count": 93,
   "metadata": {
    "scrolled": true
   },
   "outputs": [
    {
     "name": "stdout",
     "output_type": "stream",
     "text": [
      "RMSE прогнозов на валидационной выборке 47.4270966124594\n"
     ]
    }
   ],
   "source": [
    "# Получим предсказания\n",
    "predicted_valid = y_valid['num_orders'].shift()\n",
    "\n",
    "# Оценим качество модели на валидационной выборке\n",
    "print(\"RMSE прогнозов на валидационной выборке\", \n",
    "       mse(y_valid['num_orders'].iloc[1:], predicted_valid[1:], squared=False))"
   ]
  },
  {
   "cell_type": "markdown",
   "metadata": {},
   "source": [
    "### Линейная регрессия"
   ]
  },
  {
   "cell_type": "code",
   "execution_count": 94,
   "metadata": {},
   "outputs": [
    {
     "name": "stdout",
     "output_type": "stream",
     "text": [
      "RMSE модели линейной регрессии на валидационной выборке: 43.58526558536474\n"
     ]
    }
   ],
   "source": [
    "# Инициализируем модель линейной регрессии\n",
    "lin_reg = LinearRegression()\n",
    "\n",
    "# Обучим модель на тренировочной выборке\n",
    "lin_reg.fit(x_train, y_train['difference'])\n",
    "\n",
    "# Получим предсказания модели\n",
    "predicted_valid = lin_reg.predict(x_valid) + y_valid['num_orders'].shift()\n",
    "\n",
    "# Оценим качество модели на валидационной выборке\n",
    "print(\"RMSE модели линейной регрессии на валидационной выборке:\", \n",
    "       mse(y_valid['num_orders'].iloc[1:], predicted_valid[1:], squared=False))"
   ]
  },
  {
   "cell_type": "markdown",
   "metadata": {},
   "source": [
    "### Модель градиентного бустинга (CatBoost)"
   ]
  },
  {
   "cell_type": "code",
   "execution_count": 95,
   "metadata": {},
   "outputs": [],
   "source": [
    "# Указываем гиперпараметры алгоритма градиентного бустинга\n",
    "params = {'eval_metric': 'RMSE',\n",
    "          'random_state': 12345,\n",
    "          'verbose': False}"
   ]
  },
  {
   "cell_type": "code",
   "execution_count": 96,
   "metadata": {},
   "outputs": [],
   "source": [
    "# Варьируемые гиперпараметры\n",
    "params_search = {'depth': [4, 6],\n",
    "                 'learning_rate': [0.03, 0.1]}\n",
    "\n",
    "# Инициализируем модель градиентного бустинга\n",
    "cat_boost = CatBoostRegressor(**params)\n",
    "\n",
    "# Делим обучающую выборку на части (фолды)\n",
    "tscv = TimeSeriesSplit(n_splits=8)\n",
    "\n",
    "# Указываем параметры алгоритма подбора гиперпараметров \n",
    "grid = GridSearchCV(estimator=cat_boost,\n",
    "                    scoring='neg_mean_squared_error',\n",
    "                    cv=tscv,\n",
    "                    param_grid=params_search)"
   ]
  },
  {
   "cell_type": "code",
   "execution_count": 97,
   "metadata": {},
   "outputs": [
    {
     "name": "stderr",
     "output_type": "stream",
     "text": [
      "Custom logger is already specified. Specify more than one logger at same time is not thread safe."
     ]
    },
    {
     "name": "stdout",
     "output_type": "stream",
     "text": [
      "Гиперпараметры лучшей модели градиентного бустинга:  {'depth': 4, 'learning_rate': 0.03}\n",
      "CPU times: user 27 s, sys: 2.44 s, total: 29.5 s\n",
      "Wall time: 1min 5s\n"
     ]
    }
   ],
   "source": [
    "%%time\n",
    "\n",
    "# Запускаем обучение модели градиентного бустинга с использованием кросс-валидации\n",
    "grid.fit(x_train, y_train['difference'])\n",
    "\n",
    "# Определим лучшие гиперпараметры модели\n",
    "print(f\"Гиперпараметры лучшей модели градиентного бустинга: \", \n",
    "      grid.best_params_)"
   ]
  },
  {
   "cell_type": "code",
   "execution_count": 98,
   "metadata": {
    "scrolled": true
   },
   "outputs": [
    {
     "name": "stdout",
     "output_type": "stream",
     "text": [
      "RMSE модели градиентного бустинга на валидационной выборке: 35.06577743510862\n"
     ]
    }
   ],
   "source": [
    "# Инициализируем модель градиентного бустинга c подобранными гиперпараметрами\n",
    "cat_boost = grid.best_estimator_\n",
    "\n",
    "# Обучаем модель градиентного бустинга\n",
    "cat_boost.fit(          x_train, y_train['difference'], \n",
    "              eval_set=(x_valid, y_valid['difference']))\n",
    "\n",
    "# Получаем предсказания модели\n",
    "predicted_valid = cat_boost.predict(x_valid) + y_valid['num_orders'].shift()\n",
    "\n",
    "# Оценим качество модели на валидационной выборке\n",
    "print(\"RMSE модели градиентного бустинга на валидационной выборке:\", \n",
    "       mse(y_valid['num_orders'].iloc[1:], predicted_valid[1:], squared=False))"
   ]
  },
  {
   "cell_type": "markdown",
   "metadata": {},
   "source": [
    "**Вывод**. Лучший результат на валидационной выборке показала модель градиентного бустинга CatBoost. Используем её для оценки RMSE на тестовой выборке."
   ]
  },
  {
   "cell_type": "markdown",
   "metadata": {},
   "source": [
    "## Тестирование лучшей модели"
   ]
  },
  {
   "cell_type": "code",
   "execution_count": 99,
   "metadata": {},
   "outputs": [
    {
     "name": "stdout",
     "output_type": "stream",
     "text": [
      "RMSE модели градиентного бустинга на тестовой выборке: 46.114606995750734\n"
     ]
    }
   ],
   "source": [
    "# Получим предсказания модели\n",
    "predicted_test = cat_boost.predict(x_test) + y_test['num_orders'].shift()\n",
    "\n",
    "# Оценим качество модели на тестовой выборке\n",
    "print(\"RMSE модели градиентного бустинга на тестовой выборке:\", \n",
    "       mse(y_test['num_orders'].iloc[1:], predicted_test[1:], squared=False))"
   ]
  },
  {
   "cell_type": "code",
   "execution_count": 100,
   "metadata": {},
   "outputs": [
    {
     "data": {
      "image/png": "[encoded data removed]",
      "text/plain": [
       "<Figure size 864x432 with 1 Axes>"
      ]
     },
     "metadata": {
      "needs_background": "light"
     },
     "output_type": "display_data"
    }
   ],
   "source": [
    "fig, ax = plt.subplots(1, 1, figsize=(12, 6))\n",
    "\n",
    "ax.plot(x_test.index[1:], \n",
    "        y_test['num_orders'].iloc[1:],\n",
    "        label='Фактическое значение')\n",
    "ax.plot(x_test.index[1:],\n",
    "        predicted_test[1:],\n",
    "        label='Предсказанное значение')\n",
    "\n",
    "ax.legend()\n",
    "ax.set_xlabel('Время')\n",
    "ax.set_ylabel('Количество заказов')\n",
    "ax.grid()\n",
    "ax.set_xlim([x_test.index[1],x_test.index[24*7+2]])\n",
    "\n",
    "plt.show()\n"
   ]
  },
  {
   "cell_type": "markdown",
   "metadata": {},
   "source": [
    "**Вывод**. Значение метрики RMSE на тестовой выборке не превышает 48. Задача решена."
   ]
  },
  {
   "cell_type": "markdown",
   "metadata": {},
   "source": [
    "## Чек-лист проверки"
   ]
  },
  {
   "cell_type": "markdown",
   "metadata": {},
   "source": [
    "- [x]  Jupyter Notebook открыт\n",
    "- [x]  Весь код выполняется без ошибок\n",
    "- [x]  Ячейки с кодом расположены в порядке исполнения\n",
    "- [x]  Данные загружены и подготовлены\n",
    "- [x]  Данные проанализированы\n",
    "- [x]  Модель обучена, гиперпараметры подобраны\n",
    "- [x]  Качество моделей проверено, выводы сделаны\n",
    "- [x]  Значение *RMSE* на тестовой выборке не больше 48"
   ]
  }
 ],
 "metadata": {
  "ExecuteTimeLog": [
   {
    "duration": 2110,
    "start_time": "2022-04-21T09:09:35.925Z"
   },
   {
    "duration": 62,
    "start_time": "2022-04-21T09:10:05.929Z"
   },
   {
    "duration": 186,
    "start_time": "2022-04-21T09:11:11.146Z"
   },
   {
    "duration": 64,
    "start_time": "2022-04-21T09:11:20.186Z"
   },
   {
    "duration": 17,
    "start_time": "2022-04-21T09:17:35.566Z"
   },
   {
    "duration": 8,
    "start_time": "2022-04-21T09:17:48.323Z"
   },
   {
    "duration": 12,
    "start_time": "2022-04-21T09:19:36.314Z"
   },
   {
    "duration": 44,
    "start_time": "2022-04-21T09:20:01.561Z"
   },
   {
    "duration": 823,
    "start_time": "2022-04-21T09:20:08.832Z"
   },
   {
    "duration": 1073,
    "start_time": "2022-04-21T09:20:25.124Z"
   },
   {
    "duration": 1567,
    "start_time": "2022-04-21T09:21:08.904Z"
   },
   {
    "duration": 216,
    "start_time": "2022-04-21T09:22:11.683Z"
   },
   {
    "duration": 201,
    "start_time": "2022-04-21T09:25:20.949Z"
   },
   {
    "duration": 921,
    "start_time": "2022-04-21T09:25:31.520Z"
   },
   {
    "duration": 1082,
    "start_time": "2022-04-21T09:25:42.712Z"
   },
   {
    "duration": 942,
    "start_time": "2022-04-21T09:26:14.203Z"
   },
   {
    "duration": 894,
    "start_time": "2022-04-21T09:26:25.321Z"
   },
   {
    "duration": 1041,
    "start_time": "2022-04-21T09:46:00.721Z"
   },
   {
    "duration": 1157,
    "start_time": "2022-04-21T09:50:37.142Z"
   },
   {
    "duration": 997,
    "start_time": "2022-04-21T09:50:55.346Z"
   },
   {
    "duration": 1256,
    "start_time": "2022-04-21T09:51:01.670Z"
   },
   {
    "duration": 1002,
    "start_time": "2022-04-21T09:53:22.519Z"
   },
   {
    "duration": 973,
    "start_time": "2022-04-21T09:53:45.865Z"
   },
   {
    "duration": 1031,
    "start_time": "2022-04-21T09:54:04.870Z"
   },
   {
    "duration": 1263,
    "start_time": "2022-04-21T09:54:21.757Z"
   },
   {
    "duration": 12,
    "start_time": "2022-04-21T10:07:24.289Z"
   },
   {
    "duration": 9,
    "start_time": "2022-04-21T10:08:39.250Z"
   },
   {
    "duration": 9,
    "start_time": "2022-04-21T10:08:47.019Z"
   },
   {
    "duration": 12,
    "start_time": "2022-04-21T10:08:58.295Z"
   },
   {
    "duration": 10,
    "start_time": "2022-04-21T10:09:16.324Z"
   },
   {
    "duration": 304,
    "start_time": "2022-04-21T13:16:12.272Z"
   },
   {
    "duration": 1361,
    "start_time": "2022-04-21T13:17:22.803Z"
   },
   {
    "duration": 473,
    "start_time": "2022-04-21T13:19:39.503Z"
   },
   {
    "duration": 728,
    "start_time": "2022-04-21T13:22:51.379Z"
   },
   {
    "duration": 560,
    "start_time": "2022-04-21T13:27:44.464Z"
   },
   {
    "duration": 761,
    "start_time": "2022-04-21T13:28:24.250Z"
   },
   {
    "duration": 12,
    "start_time": "2022-04-21T13:28:55.395Z"
   },
   {
    "duration": 9,
    "start_time": "2022-04-21T13:45:18.951Z"
   },
   {
    "duration": 17,
    "start_time": "2022-04-21T13:45:31.849Z"
   },
   {
    "duration": 23,
    "start_time": "2022-04-21T13:46:10.205Z"
   },
   {
    "duration": 19,
    "start_time": "2022-04-21T13:46:28.167Z"
   },
   {
    "duration": 24,
    "start_time": "2022-04-21T13:46:46.030Z"
   },
   {
    "duration": 26,
    "start_time": "2022-04-21T13:46:54.028Z"
   },
   {
    "duration": 17,
    "start_time": "2022-04-21T13:50:42.102Z"
   },
   {
    "duration": 12,
    "start_time": "2022-04-21T13:57:11.341Z"
   },
   {
    "duration": 11,
    "start_time": "2022-04-21T13:57:26.324Z"
   },
   {
    "duration": 18,
    "start_time": "2022-04-21T13:58:26.383Z"
   },
   {
    "duration": 12,
    "start_time": "2022-04-21T13:58:30.043Z"
   },
   {
    "duration": 36,
    "start_time": "2022-04-21T14:04:08.853Z"
   },
   {
    "duration": 14,
    "start_time": "2022-04-21T14:04:17.344Z"
   },
   {
    "duration": 43,
    "start_time": "2022-04-21T14:05:35.694Z"
   },
   {
    "duration": 7,
    "start_time": "2022-04-21T14:05:53.425Z"
   },
   {
    "duration": 267,
    "start_time": "2022-04-21T14:06:12.755Z"
   },
   {
    "duration": 24,
    "start_time": "2022-04-21T14:57:27.197Z"
   },
   {
    "duration": 14,
    "start_time": "2022-04-21T14:57:34.972Z"
   },
   {
    "duration": 13,
    "start_time": "2022-04-21T14:57:38.344Z"
   },
   {
    "duration": 12,
    "start_time": "2022-04-21T14:58:45.741Z"
   },
   {
    "duration": 10,
    "start_time": "2022-04-21T14:58:49.153Z"
   },
   {
    "duration": 16,
    "start_time": "2022-04-21T14:59:49.980Z"
   },
   {
    "duration": 12,
    "start_time": "2022-04-21T14:59:55.846Z"
   },
   {
    "duration": 16,
    "start_time": "2022-04-21T14:59:59.922Z"
   },
   {
    "duration": 18,
    "start_time": "2022-04-21T15:00:17.065Z"
   },
   {
    "duration": 13,
    "start_time": "2022-04-21T15:02:25.083Z"
   },
   {
    "duration": 12,
    "start_time": "2022-04-21T15:02:29.494Z"
   },
   {
    "duration": 13,
    "start_time": "2022-04-21T15:02:38.257Z"
   },
   {
    "duration": 5,
    "start_time": "2022-04-21T15:02:54.802Z"
   },
   {
    "duration": 77,
    "start_time": "2022-04-21T15:02:54.843Z"
   },
   {
    "duration": 11,
    "start_time": "2022-04-21T15:02:54.924Z"
   },
   {
    "duration": 1317,
    "start_time": "2022-04-21T15:02:54.938Z"
   },
   {
    "duration": 617,
    "start_time": "2022-04-21T15:02:56.259Z"
   },
   {
    "duration": 36,
    "start_time": "2022-04-21T15:02:56.879Z"
   },
   {
    "duration": 23,
    "start_time": "2022-04-21T15:02:56.917Z"
   },
   {
    "duration": 14,
    "start_time": "2022-04-21T15:02:56.943Z"
   },
   {
    "duration": 14,
    "start_time": "2022-04-21T15:02:56.992Z"
   },
   {
    "duration": 85,
    "start_time": "2022-04-21T15:02:57.010Z"
   },
   {
    "duration": 17,
    "start_time": "2022-04-21T15:03:55.333Z"
   },
   {
    "duration": 10,
    "start_time": "2022-04-21T15:04:03.276Z"
   },
   {
    "duration": 12,
    "start_time": "2022-04-21T15:04:13.410Z"
   },
   {
    "duration": 12,
    "start_time": "2022-04-21T15:04:18.472Z"
   },
   {
    "duration": 13,
    "start_time": "2022-04-21T15:04:33.414Z"
   },
   {
    "duration": 23,
    "start_time": "2022-04-21T15:09:19.141Z"
   },
   {
    "duration": 7,
    "start_time": "2022-04-21T15:13:34.004Z"
   },
   {
    "duration": 78,
    "start_time": "2022-04-21T15:13:34.082Z"
   },
   {
    "duration": 12,
    "start_time": "2022-04-21T15:13:34.164Z"
   },
   {
    "duration": 1487,
    "start_time": "2022-04-21T15:13:34.178Z"
   },
   {
    "duration": 858,
    "start_time": "2022-04-21T15:13:35.669Z"
   },
   {
    "duration": 25,
    "start_time": "2022-04-21T15:13:36.530Z"
   },
   {
    "duration": 47,
    "start_time": "2022-04-21T15:13:36.559Z"
   },
   {
    "duration": 14,
    "start_time": "2022-04-21T15:13:36.608Z"
   },
   {
    "duration": 20,
    "start_time": "2022-04-21T15:13:36.626Z"
   },
   {
    "duration": 18,
    "start_time": "2022-04-21T15:14:28.378Z"
   },
   {
    "duration": 12,
    "start_time": "2022-04-21T15:15:39.811Z"
   },
   {
    "duration": 40,
    "start_time": "2022-04-21T15:15:51.598Z"
   },
   {
    "duration": 16,
    "start_time": "2022-04-21T15:16:21.371Z"
   },
   {
    "duration": 34,
    "start_time": "2022-04-21T15:16:28.982Z"
   },
   {
    "duration": 6,
    "start_time": "2022-04-21T15:18:41.560Z"
   },
   {
    "duration": 77,
    "start_time": "2022-04-21T15:18:41.577Z"
   },
   {
    "duration": 11,
    "start_time": "2022-04-21T15:18:41.658Z"
   },
   {
    "duration": 1304,
    "start_time": "2022-04-21T15:18:41.672Z"
   },
   {
    "duration": 610,
    "start_time": "2022-04-21T15:18:42.979Z"
   },
   {
    "duration": 31,
    "start_time": "2022-04-21T15:18:43.593Z"
   },
   {
    "duration": 33,
    "start_time": "2022-04-21T15:18:43.628Z"
   },
   {
    "duration": 44,
    "start_time": "2022-04-21T15:18:43.664Z"
   },
   {
    "duration": 3436,
    "start_time": "2022-04-21T15:18:52.598Z"
   },
   {
    "duration": 19,
    "start_time": "2022-04-21T15:19:18.277Z"
   },
   {
    "duration": 5,
    "start_time": "2022-04-21T15:19:55.606Z"
   },
   {
    "duration": 88,
    "start_time": "2022-04-21T15:19:55.632Z"
   },
   {
    "duration": 12,
    "start_time": "2022-04-21T15:19:55.723Z"
   },
   {
    "duration": 1108,
    "start_time": "2022-04-21T15:19:55.739Z"
   },
   {
    "duration": 487,
    "start_time": "2022-04-21T15:19:56.849Z"
   },
   {
    "duration": 23,
    "start_time": "2022-04-21T15:19:57.339Z"
   },
   {
    "duration": 49,
    "start_time": "2022-04-21T15:19:57.366Z"
   },
   {
    "duration": 18,
    "start_time": "2022-04-21T15:20:06.474Z"
   },
   {
    "duration": 6058,
    "start_time": "2022-04-21T15:20:17.598Z"
   },
   {
    "duration": 18,
    "start_time": "2022-04-21T15:20:49.010Z"
   },
   {
    "duration": 3449,
    "start_time": "2022-04-21T15:21:13.466Z"
   },
   {
    "duration": 16,
    "start_time": "2022-04-21T15:21:21.716Z"
   },
   {
    "duration": 14,
    "start_time": "2022-04-21T15:21:24.964Z"
   },
   {
    "duration": 891,
    "start_time": "2022-04-21T15:21:55.823Z"
   },
   {
    "duration": 13,
    "start_time": "2022-04-21T15:23:34.939Z"
   },
   {
    "duration": 27,
    "start_time": "2022-04-21T15:23:53.238Z"
   },
   {
    "duration": 42,
    "start_time": "2022-04-21T15:25:18.213Z"
   },
   {
    "duration": 30,
    "start_time": "2022-04-21T15:25:58.496Z"
   },
   {
    "duration": 26,
    "start_time": "2022-04-21T15:26:39.307Z"
   },
   {
    "duration": 20,
    "start_time": "2022-04-21T15:27:06.966Z"
   },
   {
    "duration": 60,
    "start_time": "2022-04-21T15:28:55.707Z"
   },
   {
    "duration": 19,
    "start_time": "2022-04-21T15:29:32.476Z"
   },
   {
    "duration": 22,
    "start_time": "2022-04-21T15:29:55.540Z"
   },
   {
    "duration": 27,
    "start_time": "2022-04-21T15:30:41.030Z"
   },
   {
    "duration": 29,
    "start_time": "2022-04-21T15:31:43.514Z"
   },
   {
    "duration": 7,
    "start_time": "2022-04-21T15:37:22.272Z"
   },
   {
    "duration": 84,
    "start_time": "2022-04-21T15:37:22.293Z"
   },
   {
    "duration": 15,
    "start_time": "2022-04-21T15:37:22.381Z"
   },
   {
    "duration": 958,
    "start_time": "2022-04-21T15:37:22.398Z"
   },
   {
    "duration": 599,
    "start_time": "2022-04-21T15:37:23.359Z"
   },
   {
    "duration": 37,
    "start_time": "2022-04-21T15:37:23.960Z"
   },
   {
    "duration": 30,
    "start_time": "2022-04-21T15:37:24.000Z"
   },
   {
    "duration": 21,
    "start_time": "2022-04-21T15:37:24.033Z"
   },
   {
    "duration": 40,
    "start_time": "2022-04-21T15:37:24.057Z"
   },
   {
    "duration": 95,
    "start_time": "2022-04-21T15:37:24.102Z"
   },
   {
    "duration": 20,
    "start_time": "2022-04-21T15:43:07.328Z"
   },
   {
    "duration": 5,
    "start_time": "2022-04-21T15:44:18.394Z"
   },
   {
    "duration": 63,
    "start_time": "2022-04-21T15:44:18.413Z"
   },
   {
    "duration": 15,
    "start_time": "2022-04-21T15:44:18.479Z"
   },
   {
    "duration": 1058,
    "start_time": "2022-04-21T15:44:18.496Z"
   },
   {
    "duration": 447,
    "start_time": "2022-04-21T15:44:19.556Z"
   },
   {
    "duration": 22,
    "start_time": "2022-04-21T15:44:20.006Z"
   },
   {
    "duration": 24,
    "start_time": "2022-04-21T15:44:20.032Z"
   },
   {
    "duration": 48,
    "start_time": "2022-04-21T15:44:20.058Z"
   },
   {
    "duration": 29,
    "start_time": "2022-04-21T15:44:20.109Z"
   },
   {
    "duration": 54,
    "start_time": "2022-04-21T15:44:20.141Z"
   },
   {
    "duration": 3,
    "start_time": "2022-04-21T15:45:42.760Z"
   },
   {
    "duration": 19,
    "start_time": "2022-04-21T15:45:48.679Z"
   },
   {
    "duration": 18,
    "start_time": "2022-04-21T15:46:05.922Z"
   },
   {
    "duration": 22,
    "start_time": "2022-04-21T15:46:28.364Z"
   },
   {
    "duration": 10,
    "start_time": "2022-04-21T15:48:06.356Z"
   },
   {
    "duration": 17,
    "start_time": "2022-04-21T15:50:16.634Z"
   },
   {
    "duration": 8,
    "start_time": "2022-04-21T15:50:30.888Z"
   },
   {
    "duration": 10,
    "start_time": "2022-04-21T15:54:06.011Z"
   },
   {
    "duration": 9,
    "start_time": "2022-04-21T16:04:38.990Z"
   },
   {
    "duration": 86,
    "start_time": "2022-04-21T16:20:28.044Z"
   },
   {
    "duration": 5,
    "start_time": "2022-04-21T16:27:16.782Z"
   },
   {
    "duration": 23,
    "start_time": "2022-04-21T16:32:24.411Z"
   },
   {
    "duration": 6,
    "start_time": "2022-04-21T16:32:41.649Z"
   },
   {
    "duration": 17,
    "start_time": "2022-04-21T16:32:49.311Z"
   },
   {
    "duration": 7279,
    "start_time": "2022-04-21T16:32:58.193Z"
   },
   {
    "duration": 4,
    "start_time": "2022-04-21T16:41:02.428Z"
   },
   {
    "duration": 3720,
    "start_time": "2022-04-21T16:41:05.078Z"
   },
   {
    "duration": 3506,
    "start_time": "2022-04-21T16:41:45.207Z"
   },
   {
    "duration": 5,
    "start_time": "2022-04-21T16:48:04.782Z"
   },
   {
    "duration": 73,
    "start_time": "2022-04-21T16:48:04.848Z"
   },
   {
    "duration": 10,
    "start_time": "2022-04-21T16:48:04.924Z"
   },
   {
    "duration": 950,
    "start_time": "2022-04-21T16:48:04.936Z"
   },
   {
    "duration": 459,
    "start_time": "2022-04-21T16:48:05.888Z"
   },
   {
    "duration": 24,
    "start_time": "2022-04-21T16:48:06.350Z"
   },
   {
    "duration": 30,
    "start_time": "2022-04-21T16:48:06.394Z"
   },
   {
    "duration": 16,
    "start_time": "2022-04-21T16:48:06.426Z"
   },
   {
    "duration": 59,
    "start_time": "2022-04-21T16:48:06.444Z"
   },
   {
    "duration": 12,
    "start_time": "2022-04-21T16:48:06.508Z"
   },
   {
    "duration": 75,
    "start_time": "2022-04-21T16:48:06.523Z"
   },
   {
    "duration": 107,
    "start_time": "2022-04-21T16:48:06.601Z"
   },
   {
    "duration": 3442,
    "start_time": "2022-04-21T16:48:06.711Z"
   },
   {
    "duration": 5,
    "start_time": "2022-04-21T16:51:07.213Z"
   },
   {
    "duration": 3576,
    "start_time": "2022-04-21T16:51:09.439Z"
   },
   {
    "duration": 4,
    "start_time": "2022-04-21T16:53:56.872Z"
   },
   {
    "duration": 1800,
    "start_time": "2022-04-21T16:53:59.082Z"
   },
   {
    "duration": 5,
    "start_time": "2022-04-21T16:56:18.687Z"
   },
   {
    "duration": 3306,
    "start_time": "2022-04-21T16:56:20.861Z"
   },
   {
    "duration": 3,
    "start_time": "2022-04-21T16:56:31.159Z"
   },
   {
    "duration": 3543,
    "start_time": "2022-04-21T16:56:32.699Z"
   },
   {
    "duration": 3395,
    "start_time": "2022-04-21T16:56:54.112Z"
   },
   {
    "duration": 16,
    "start_time": "2022-04-21T16:58:06.793Z"
   },
   {
    "duration": 4,
    "start_time": "2022-04-21T16:59:27.682Z"
   },
   {
    "duration": 28475,
    "start_time": "2022-04-21T17:00:43.535Z"
   },
   {
    "duration": 220,
    "start_time": "2022-04-21T20:47:03.296Z"
   },
   {
    "duration": 64729,
    "start_time": "2022-04-21T20:47:11.289Z"
   },
   {
    "duration": 9915,
    "start_time": "2022-04-21T20:48:59.326Z"
   },
   {
    "duration": 13078,
    "start_time": "2022-04-21T20:49:45.532Z"
   },
   {
    "duration": 3,
    "start_time": "2022-04-21T20:51:44.041Z"
   },
   {
    "duration": 4,
    "start_time": "2022-04-21T20:51:46.084Z"
   },
   {
    "duration": 13655,
    "start_time": "2022-04-21T20:51:46.813Z"
   },
   {
    "duration": 10451,
    "start_time": "2022-04-21T20:52:09.118Z"
   },
   {
    "duration": 8,
    "start_time": "2022-04-21T20:52:21.960Z"
   },
   {
    "duration": 12771,
    "start_time": "2022-04-21T20:52:23.995Z"
   },
   {
    "duration": 12597,
    "start_time": "2022-04-21T20:52:48.338Z"
   },
   {
    "duration": 13408,
    "start_time": "2022-04-21T20:53:40.258Z"
   },
   {
    "duration": 2241,
    "start_time": "2022-04-21T20:54:14.356Z"
   },
   {
    "duration": 12586,
    "start_time": "2022-04-21T20:54:23.550Z"
   },
   {
    "duration": 10948,
    "start_time": "2022-04-21T20:54:51.614Z"
   },
   {
    "duration": 10584,
    "start_time": "2022-04-21T20:55:25.887Z"
   },
   {
    "duration": 7477,
    "start_time": "2022-04-21T21:00:27.355Z"
   },
   {
    "duration": 11495,
    "start_time": "2022-04-21T21:02:30.331Z"
   },
   {
    "duration": 14071,
    "start_time": "2022-04-21T21:03:17.484Z"
   },
   {
    "duration": 12764,
    "start_time": "2022-04-21T21:04:07.041Z"
   },
   {
    "duration": 9084,
    "start_time": "2022-04-21T21:04:46.523Z"
   },
   {
    "duration": 8446,
    "start_time": "2022-04-21T21:16:32.228Z"
   },
   {
    "duration": 27,
    "start_time": "2022-04-21T21:23:41.821Z"
   },
   {
    "duration": 4193,
    "start_time": "2022-04-21T21:24:16.928Z"
   },
   {
    "duration": 6,
    "start_time": "2022-04-21T21:24:38.067Z"
   },
   {
    "duration": 96,
    "start_time": "2022-04-21T21:24:38.078Z"
   },
   {
    "duration": 15,
    "start_time": "2022-04-21T21:24:38.178Z"
   },
   {
    "duration": 1643,
    "start_time": "2022-04-21T21:24:38.196Z"
   },
   {
    "duration": 629,
    "start_time": "2022-04-21T21:24:39.842Z"
   },
   {
    "duration": 29,
    "start_time": "2022-04-21T21:24:40.474Z"
   },
   {
    "duration": 26,
    "start_time": "2022-04-21T21:24:40.507Z"
   },
   {
    "duration": 16,
    "start_time": "2022-04-21T21:24:40.535Z"
   },
   {
    "duration": 29,
    "start_time": "2022-04-21T21:24:40.593Z"
   },
   {
    "duration": 10,
    "start_time": "2022-04-21T21:24:40.624Z"
   },
   {
    "duration": 62,
    "start_time": "2022-04-21T21:24:40.636Z"
   },
   {
    "duration": 96,
    "start_time": "2022-04-21T21:24:40.702Z"
   },
   {
    "duration": 34,
    "start_time": "2022-04-21T21:24:40.801Z"
   },
   {
    "duration": 4595,
    "start_time": "2022-04-21T21:24:40.840Z"
   },
   {
    "duration": 4,
    "start_time": "2022-04-21T21:25:29.306Z"
   },
   {
    "duration": 4328,
    "start_time": "2022-04-21T21:25:31.328Z"
   },
   {
    "duration": 4,
    "start_time": "2022-04-21T21:25:49.149Z"
   },
   {
    "duration": 4418,
    "start_time": "2022-04-21T21:25:51.648Z"
   },
   {
    "duration": 3,
    "start_time": "2022-04-21T21:26:36.663Z"
   },
   {
    "duration": 4400,
    "start_time": "2022-04-21T21:26:38.765Z"
   },
   {
    "duration": 4648,
    "start_time": "2022-04-21T21:27:30.330Z"
   },
   {
    "duration": 4602,
    "start_time": "2022-04-21T21:28:01.389Z"
   },
   {
    "duration": 2414,
    "start_time": "2022-04-22T04:50:40.717Z"
   },
   {
    "duration": 8,
    "start_time": "2022-04-22T05:04:29.063Z"
   },
   {
    "duration": 73,
    "start_time": "2022-04-22T05:04:29.081Z"
   },
   {
    "duration": 12,
    "start_time": "2022-04-22T05:04:29.156Z"
   },
   {
    "duration": 1100,
    "start_time": "2022-04-22T05:04:29.171Z"
   },
   {
    "duration": 539,
    "start_time": "2022-04-22T05:04:30.274Z"
   },
   {
    "duration": 54,
    "start_time": "2022-04-22T05:04:30.818Z"
   },
   {
    "duration": 27,
    "start_time": "2022-04-22T05:04:30.876Z"
   },
   {
    "duration": 55,
    "start_time": "2022-04-22T05:04:30.909Z"
   },
   {
    "duration": 58,
    "start_time": "2022-04-22T05:04:30.966Z"
   },
   {
    "duration": 81,
    "start_time": "2022-04-22T05:04:31.027Z"
   },
   {
    "duration": 68,
    "start_time": "2022-04-22T05:04:31.110Z"
   },
   {
    "duration": 100,
    "start_time": "2022-04-22T05:04:31.211Z"
   },
   {
    "duration": 211,
    "start_time": "2022-04-22T05:04:31.317Z"
   },
   {
    "duration": 198,
    "start_time": "2022-04-22T05:04:59.942Z"
   },
   {
    "duration": 4,
    "start_time": "2022-04-22T05:05:14.846Z"
   },
   {
    "duration": 7,
    "start_time": "2022-04-22T05:05:23.450Z"
   },
   {
    "duration": 12,
    "start_time": "2022-04-22T05:06:35.433Z"
   },
   {
    "duration": 13,
    "start_time": "2022-04-22T05:06:52.292Z"
   },
   {
    "duration": 5,
    "start_time": "2022-04-22T05:09:25.542Z"
   },
   {
    "duration": 12,
    "start_time": "2022-04-22T05:10:06.917Z"
   },
   {
    "duration": 5,
    "start_time": "2022-04-22T05:10:10.555Z"
   },
   {
    "duration": 22495,
    "start_time": "2022-04-22T05:10:12.807Z"
   },
   {
    "duration": 22460,
    "start_time": "2022-04-22T05:11:22.129Z"
   },
   {
    "duration": 6,
    "start_time": "2022-04-22T05:11:53.826Z"
   },
   {
    "duration": 4,
    "start_time": "2022-04-22T05:12:38.420Z"
   },
   {
    "duration": 6,
    "start_time": "2022-04-22T05:12:40.908Z"
   },
   {
    "duration": 20791,
    "start_time": "2022-04-22T05:12:43.191Z"
   },
   {
    "duration": 5,
    "start_time": "2022-04-22T05:17:30.315Z"
   },
   {
    "duration": 20920,
    "start_time": "2022-04-22T05:17:33.211Z"
   },
   {
    "duration": 4,
    "start_time": "2022-04-22T05:22:00.902Z"
   },
   {
    "duration": 4,
    "start_time": "2022-04-22T05:22:02.587Z"
   },
   {
    "duration": 5,
    "start_time": "2022-04-22T05:22:04.804Z"
   },
   {
    "duration": 21295,
    "start_time": "2022-04-22T05:22:07.106Z"
   },
   {
    "duration": 6,
    "start_time": "2022-04-22T05:25:36.747Z"
   },
   {
    "duration": 21039,
    "start_time": "2022-04-22T05:25:40.530Z"
   },
   {
    "duration": 21244,
    "start_time": "2022-04-22T05:26:46.784Z"
   },
   {
    "duration": 20781,
    "start_time": "2022-04-22T05:28:47.239Z"
   },
   {
    "duration": 21243,
    "start_time": "2022-04-22T05:30:42.603Z"
   },
   {
    "duration": 3494,
    "start_time": "2022-04-22T05:32:03.040Z"
   },
   {
    "duration": 15,
    "start_time": "2022-04-22T05:34:02.044Z"
   },
   {
    "duration": 5,
    "start_time": "2022-04-22T05:34:08.666Z"
   },
   {
    "duration": 21,
    "start_time": "2022-04-22T05:38:07.430Z"
   },
   {
    "duration": 13,
    "start_time": "2022-04-22T05:38:37.708Z"
   },
   {
    "duration": 5,
    "start_time": "2022-04-22T05:38:56.323Z"
   },
   {
    "duration": 5,
    "start_time": "2022-04-22T05:38:58.750Z"
   },
   {
    "duration": 21119,
    "start_time": "2022-04-22T05:39:01.129Z"
   },
   {
    "duration": 3365,
    "start_time": "2022-04-22T05:39:24.609Z"
   },
   {
    "duration": 9,
    "start_time": "2022-04-22T05:39:32.657Z"
   },
   {
    "duration": 9,
    "start_time": "2022-04-22T05:43:27.703Z"
   },
   {
    "duration": 8,
    "start_time": "2022-04-22T06:07:01.033Z"
   },
   {
    "duration": 99,
    "start_time": "2022-04-22T06:07:01.045Z"
   },
   {
    "duration": 12,
    "start_time": "2022-04-22T06:07:01.148Z"
   },
   {
    "duration": 1843,
    "start_time": "2022-04-22T06:07:01.163Z"
   },
   {
    "duration": 678,
    "start_time": "2022-04-22T06:07:03.009Z"
   },
   {
    "duration": 28,
    "start_time": "2022-04-22T06:07:03.692Z"
   },
   {
    "duration": 18,
    "start_time": "2022-04-22T06:07:03.723Z"
   },
   {
    "duration": 59,
    "start_time": "2022-04-22T06:07:03.743Z"
   },
   {
    "duration": 10,
    "start_time": "2022-04-22T06:07:03.805Z"
   },
   {
    "duration": 79,
    "start_time": "2022-04-22T06:07:03.817Z"
   },
   {
    "duration": 95,
    "start_time": "2022-04-22T06:07:03.900Z"
   },
   {
    "duration": 15,
    "start_time": "2022-04-22T06:07:03.998Z"
   },
   {
    "duration": 21433,
    "start_time": "2022-04-22T06:07:04.015Z"
   },
   {
    "duration": 3207,
    "start_time": "2022-04-22T06:07:25.451Z"
   },
   {
    "duration": 8,
    "start_time": "2022-04-22T06:07:28.662Z"
   },
   {
    "duration": 5,
    "start_time": "2022-04-22T08:23:54.811Z"
   },
   {
    "duration": 6,
    "start_time": "2022-04-22T09:17:44.211Z"
   },
   {
    "duration": 84,
    "start_time": "2022-04-22T09:17:44.223Z"
   },
   {
    "duration": 12,
    "start_time": "2022-04-22T09:17:44.311Z"
   },
   {
    "duration": 1335,
    "start_time": "2022-04-22T09:17:44.325Z"
   },
   {
    "duration": 618,
    "start_time": "2022-04-22T09:17:45.662Z"
   },
   {
    "duration": 31,
    "start_time": "2022-04-22T09:17:46.284Z"
   },
   {
    "duration": 18,
    "start_time": "2022-04-22T09:17:46.318Z"
   },
   {
    "duration": 61,
    "start_time": "2022-04-22T09:17:46.339Z"
   },
   {
    "duration": 10,
    "start_time": "2022-04-22T09:17:46.404Z"
   },
   {
    "duration": 77,
    "start_time": "2022-04-22T09:17:46.417Z"
   },
   {
    "duration": 1685,
    "start_time": "2022-04-22T09:22:12.310Z"
   },
   {
    "duration": 14,
    "start_time": "2022-04-22T09:22:24.316Z"
   },
   {
    "duration": 6,
    "start_time": "2022-04-22T09:23:59.785Z"
   },
   {
    "duration": 362,
    "start_time": "2022-04-22T09:23:59.794Z"
   },
   {
    "duration": 10,
    "start_time": "2022-04-22T09:24:00.158Z"
   },
   {
    "duration": 1039,
    "start_time": "2022-04-22T09:24:00.171Z"
   },
   {
    "duration": 491,
    "start_time": "2022-04-22T09:24:01.213Z"
   },
   {
    "duration": 28,
    "start_time": "2022-04-22T09:24:01.707Z"
   },
   {
    "duration": 19,
    "start_time": "2022-04-22T09:24:01.738Z"
   },
   {
    "duration": 61,
    "start_time": "2022-04-22T09:24:01.760Z"
   },
   {
    "duration": 13,
    "start_time": "2022-04-22T09:24:01.824Z"
   },
   {
    "duration": 53,
    "start_time": "2022-04-22T09:24:01.841Z"
   },
   {
    "duration": 115,
    "start_time": "2022-04-22T09:24:01.897Z"
   },
   {
    "duration": 81,
    "start_time": "2022-04-22T09:24:02.014Z"
   },
   {
    "duration": 24009,
    "start_time": "2022-04-22T09:24:02.098Z"
   },
   {
    "duration": 3559,
    "start_time": "2022-04-22T09:24:26.111Z"
   },
   {
    "duration": 9,
    "start_time": "2022-04-22T09:24:29.672Z"
   },
   {
    "duration": 3562,
    "start_time": "2022-04-22T09:25:26.120Z"
   },
   {
    "duration": 6,
    "start_time": "2022-04-22T09:26:10.629Z"
   },
   {
    "duration": 87,
    "start_time": "2022-04-22T09:26:10.638Z"
   },
   {
    "duration": 9,
    "start_time": "2022-04-22T09:26:10.728Z"
   },
   {
    "duration": 1359,
    "start_time": "2022-04-22T09:26:10.740Z"
   },
   {
    "duration": 514,
    "start_time": "2022-04-22T09:26:12.102Z"
   },
   {
    "duration": 20,
    "start_time": "2022-04-22T09:26:12.618Z"
   },
   {
    "duration": 16,
    "start_time": "2022-04-22T09:26:12.640Z"
   },
   {
    "duration": 70,
    "start_time": "2022-04-22T09:26:12.658Z"
   },
   {
    "duration": 11,
    "start_time": "2022-04-22T09:26:12.730Z"
   },
   {
    "duration": 48,
    "start_time": "2022-04-22T09:26:12.746Z"
   },
   {
    "duration": 98,
    "start_time": "2022-04-22T09:26:12.798Z"
   },
   {
    "duration": 18,
    "start_time": "2022-04-22T09:26:12.904Z"
   },
   {
    "duration": 25048,
    "start_time": "2022-04-22T09:26:12.926Z"
   },
   {
    "duration": 3547,
    "start_time": "2022-04-22T09:26:37.977Z"
   },
   {
    "duration": 10,
    "start_time": "2022-04-22T09:26:41.526Z"
   },
   {
    "duration": 57876,
    "start_time": "2022-04-23T05:01:35.123Z"
   },
   {
    "duration": 99,
    "start_time": "2022-04-23T05:02:33.001Z"
   },
   {
    "duration": 8,
    "start_time": "2022-04-23T05:02:33.102Z"
   },
   {
    "duration": 607,
    "start_time": "2022-04-23T05:03:42.781Z"
   },
   {
    "duration": 378,
    "start_time": "2022-04-23T05:03:43.779Z"
   },
   {
    "duration": 14,
    "start_time": "2022-04-23T05:12:41.843Z"
   },
   {
    "duration": 12,
    "start_time": "2022-04-23T05:13:54.623Z"
   },
   {
    "duration": 43,
    "start_time": "2022-04-23T05:13:55.307Z"
   },
   {
    "duration": 8,
    "start_time": "2022-04-23T05:13:57.246Z"
   },
   {
    "duration": 15,
    "start_time": "2022-04-23T05:14:01.840Z"
   },
   {
    "duration": 3,
    "start_time": "2022-04-23T05:14:06.433Z"
   },
   {
    "duration": 4,
    "start_time": "2022-04-23T05:14:08.436Z"
   },
   {
    "duration": 16829,
    "start_time": "2022-04-23T05:14:12.028Z"
   },
   {
    "duration": 2897,
    "start_time": "2022-04-23T05:14:28.860Z"
   },
   {
    "duration": 7,
    "start_time": "2022-04-23T05:17:30.593Z"
   },
   {
    "duration": 2797,
    "start_time": "2022-04-23T09:32:40.636Z"
   },
   {
    "duration": 141,
    "start_time": "2022-04-23T09:32:43.435Z"
   },
   {
    "duration": 7,
    "start_time": "2022-04-23T09:32:43.577Z"
   },
   {
    "duration": 639,
    "start_time": "2022-04-23T09:32:43.586Z"
   },
   {
    "duration": 431,
    "start_time": "2022-04-23T09:32:44.227Z"
   },
   {
    "duration": 305,
    "start_time": "2022-04-23T09:33:58.674Z"
   },
   {
    "duration": 75,
    "start_time": "2022-04-23T17:34:08.332Z"
   },
   {
    "duration": 2941,
    "start_time": "2022-04-23T17:34:25.119Z"
   },
   {
    "duration": 79,
    "start_time": "2022-04-23T17:34:28.063Z"
   },
   {
    "duration": 12,
    "start_time": "2022-04-23T17:34:28.145Z"
   },
   {
    "duration": 1078,
    "start_time": "2022-04-23T17:34:28.160Z"
   },
   {
    "duration": 614,
    "start_time": "2022-04-23T17:34:29.241Z"
   },
   {
    "duration": 16,
    "start_time": "2022-04-23T17:34:29.857Z"
   },
   {
    "duration": 15,
    "start_time": "2022-04-23T17:34:29.875Z"
   },
   {
    "duration": 82,
    "start_time": "2022-04-23T17:34:29.892Z"
   },
   {
    "duration": 10,
    "start_time": "2022-04-23T17:34:29.976Z"
   },
   {
    "duration": 52,
    "start_time": "2022-04-23T17:34:29.989Z"
   },
   {
    "duration": 266,
    "start_time": "2022-04-23T17:34:30.044Z"
   },
   {
    "duration": 38,
    "start_time": "2022-04-23T17:34:30.313Z"
   },
   {
    "duration": 22074,
    "start_time": "2022-04-23T17:34:30.354Z"
   },
   {
    "duration": 3081,
    "start_time": "2022-04-23T17:34:52.431Z"
   },
   {
    "duration": 11,
    "start_time": "2022-04-23T17:34:55.516Z"
   },
   {
    "duration": 305,
    "start_time": "2022-04-23T17:34:55.531Z"
   },
   {
    "duration": 9,
    "start_time": "2022-04-23T17:40:39.659Z"
   },
   {
    "duration": 232,
    "start_time": "2022-04-23T17:43:36.718Z"
   },
   {
    "duration": 1789,
    "start_time": "2022-04-23T17:50:10.173Z"
   },
   {
    "duration": 1605,
    "start_time": "2022-04-23T17:51:05.307Z"
   },
   {
    "duration": 25,
    "start_time": "2022-04-23T17:52:28.915Z"
   },
   {
    "duration": 13,
    "start_time": "2022-04-23T17:52:37.339Z"
   },
   {
    "duration": 6,
    "start_time": "2022-04-23T17:52:40.600Z"
   },
   {
    "duration": 1162,
    "start_time": "2022-04-23T17:52:56.564Z"
   },
   {
    "duration": 1402,
    "start_time": "2022-04-23T17:53:51.959Z"
   },
   {
    "duration": 13,
    "start_time": "2022-04-23T17:54:07.577Z"
   },
   {
    "duration": 7,
    "start_time": "2022-04-23T17:54:20.838Z"
   },
   {
    "duration": 10,
    "start_time": "2022-04-23T17:54:29.043Z"
   },
   {
    "duration": 1177,
    "start_time": "2022-04-23T17:54:55.328Z"
   },
   {
    "duration": 512,
    "start_time": "2022-04-23T17:55:11.425Z"
   },
   {
    "duration": 460,
    "start_time": "2022-04-23T17:55:27.250Z"
   },
   {
    "duration": 349,
    "start_time": "2022-04-23T17:56:10.738Z"
   },
   {
    "duration": 375,
    "start_time": "2022-04-23T17:57:58.328Z"
   },
   {
    "duration": 435,
    "start_time": "2022-04-23T18:02:39.645Z"
   },
   {
    "duration": 599,
    "start_time": "2022-04-23T18:03:19.987Z"
   },
   {
    "duration": 547,
    "start_time": "2022-04-23T18:03:47.394Z"
   },
   {
    "duration": 410,
    "start_time": "2022-04-23T18:03:51.909Z"
   },
   {
    "duration": 402,
    "start_time": "2022-04-23T18:04:01.934Z"
   },
   {
    "duration": 405,
    "start_time": "2022-04-23T18:04:40.610Z"
   },
   {
    "duration": 410,
    "start_time": "2022-04-23T18:05:07.915Z"
   },
   {
    "duration": 573,
    "start_time": "2022-04-23T18:26:57.587Z"
   },
   {
    "duration": 416,
    "start_time": "2022-04-23T18:27:19.853Z"
   },
   {
    "duration": 7,
    "start_time": "2022-04-23T18:27:46.596Z"
   },
   {
    "duration": 419,
    "start_time": "2022-04-23T18:27:56.792Z"
   },
   {
    "duration": 428,
    "start_time": "2022-04-23T18:28:04.205Z"
   },
   {
    "duration": 9,
    "start_time": "2022-04-23T18:33:32.820Z"
   },
   {
    "duration": 7,
    "start_time": "2022-04-23T18:33:36.353Z"
   },
   {
    "duration": 397,
    "start_time": "2022-04-23T18:34:18.692Z"
   },
   {
    "duration": 386,
    "start_time": "2022-04-23T18:34:30.589Z"
   },
   {
    "duration": 326,
    "start_time": "2022-04-23T18:35:02.026Z"
   },
   {
    "duration": 6,
    "start_time": "2022-04-23T18:35:51.944Z"
   },
   {
    "duration": 8,
    "start_time": "2022-04-23T18:36:16.937Z"
   },
   {
    "duration": 336,
    "start_time": "2022-04-23T18:36:26.701Z"
   },
   {
    "duration": 318,
    "start_time": "2022-04-23T18:36:57.516Z"
   },
   {
    "duration": 342,
    "start_time": "2022-04-23T18:37:15.073Z"
   },
   {
    "duration": 9,
    "start_time": "2022-04-23T18:37:38.577Z"
   },
   {
    "duration": 7,
    "start_time": "2022-04-23T18:38:08.996Z"
   },
   {
    "duration": 7,
    "start_time": "2022-04-23T18:38:20.847Z"
   },
   {
    "duration": 412,
    "start_time": "2022-04-23T18:38:43.717Z"
   },
   {
    "duration": 329,
    "start_time": "2022-04-23T18:39:10.336Z"
   },
   {
    "duration": 439,
    "start_time": "2022-04-23T18:39:22.867Z"
   },
   {
    "duration": 327,
    "start_time": "2022-04-23T18:39:37.622Z"
   },
   {
    "duration": 8,
    "start_time": "2022-04-23T18:39:57.538Z"
   },
   {
    "duration": 20,
    "start_time": "2022-04-23T18:41:13.082Z"
   },
   {
    "duration": 21,
    "start_time": "2022-04-23T18:41:50.919Z"
   },
   {
    "duration": 25,
    "start_time": "2022-04-23T18:42:06.006Z"
   },
   {
    "duration": 449,
    "start_time": "2022-04-23T18:44:09.487Z"
   },
   {
    "duration": 319,
    "start_time": "2022-04-23T18:44:30.263Z"
   },
   {
    "duration": 10,
    "start_time": "2022-04-23T18:46:55.004Z"
   },
   {
    "duration": 27,
    "start_time": "2022-04-23T18:47:08.324Z"
   },
   {
    "duration": 9,
    "start_time": "2022-04-23T18:55:43.401Z"
   },
   {
    "duration": 69,
    "start_time": "2022-04-23T18:55:43.415Z"
   },
   {
    "duration": 11,
    "start_time": "2022-04-23T18:55:43.487Z"
   },
   {
    "duration": 1043,
    "start_time": "2022-04-23T18:55:43.501Z"
   },
   {
    "duration": 508,
    "start_time": "2022-04-23T18:55:44.546Z"
   },
   {
    "duration": 16,
    "start_time": "2022-04-23T18:55:45.057Z"
   },
   {
    "duration": 17,
    "start_time": "2022-04-23T18:55:45.075Z"
   },
   {
    "duration": 58,
    "start_time": "2022-04-23T18:55:45.094Z"
   },
   {
    "duration": 11,
    "start_time": "2022-04-23T18:55:45.154Z"
   },
   {
    "duration": 59,
    "start_time": "2022-04-23T18:55:45.167Z"
   },
   {
    "duration": 98,
    "start_time": "2022-04-23T18:55:45.234Z"
   },
   {
    "duration": 15,
    "start_time": "2022-04-23T18:55:45.334Z"
   },
   {
    "duration": 41089,
    "start_time": "2022-04-23T18:55:45.352Z"
   },
   {
    "duration": 0,
    "start_time": "2022-04-23T18:56:26.444Z"
   },
   {
    "duration": 0,
    "start_time": "2022-04-23T18:56:26.446Z"
   },
   {
    "duration": 0,
    "start_time": "2022-04-23T18:56:26.448Z"
   },
   {
    "duration": 6,
    "start_time": "2022-04-23T18:56:52.490Z"
   },
   {
    "duration": 68,
    "start_time": "2022-04-23T18:56:52.498Z"
   },
   {
    "duration": 9,
    "start_time": "2022-04-23T18:56:52.568Z"
   },
   {
    "duration": 1173,
    "start_time": "2022-04-23T18:56:52.579Z"
   },
   {
    "duration": 540,
    "start_time": "2022-04-23T18:56:53.754Z"
   },
   {
    "duration": 27,
    "start_time": "2022-04-23T18:56:54.296Z"
   },
   {
    "duration": 15,
    "start_time": "2022-04-23T18:56:54.326Z"
   },
   {
    "duration": 26,
    "start_time": "2022-04-23T18:56:54.344Z"
   },
   {
    "duration": 10,
    "start_time": "2022-04-23T18:56:54.373Z"
   },
   {
    "duration": 58,
    "start_time": "2022-04-23T18:56:54.387Z"
   },
   {
    "duration": 99,
    "start_time": "2022-04-23T18:56:54.527Z"
   },
   {
    "duration": 11,
    "start_time": "2022-04-23T18:56:54.630Z"
   },
   {
    "duration": 65897,
    "start_time": "2022-04-23T18:56:54.643Z"
   },
   {
    "duration": 2549,
    "start_time": "2022-04-23T18:58:00.543Z"
   },
   {
    "duration": 9,
    "start_time": "2022-04-23T18:58:03.094Z"
   },
   {
    "duration": 329,
    "start_time": "2022-04-23T18:58:03.106Z"
   }
  ],
  "kernelspec": {
   "display_name": "Python 3 (ipykernel)",
   "language": "python",
   "name": "python3"
  },
  "language_info": {
   "codemirror_mode": {
    "name": "ipython",
    "version": 3
   },
   "file_extension": ".py",
   "mimetype": "text/x-python",
   "name": "python",
   "nbconvert_exporter": "python",
   "pygments_lexer": "ipython3",
   "version": "3.9.5"
  },
  "toc": {
   "base_numbering": 1,
   "nav_menu": {},
   "number_sections": true,
   "sideBar": true,
   "skip_h1_title": true,
   "title_cell": "Содержание",
   "title_sidebar": "Contents",
   "toc_cell": true,
   "toc_position": {},
   "toc_section_display": true,
   "toc_window_display": false
  }
 },
 "nbformat": 4,
 "nbformat_minor": 2
}
